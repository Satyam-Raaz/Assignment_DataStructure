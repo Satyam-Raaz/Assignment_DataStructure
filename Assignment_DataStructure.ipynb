{
 "cells": [
  {
   "cell_type": "code",
   "execution_count": 15,
   "metadata": {},
   "outputs": [
    {
     "name": "stdout",
     "output_type": "stream",
     "text": [
      "maytas\n"
     ]
    }
   ],
   "source": [
    "#Q_No_1> Write a code to reverse a string\n",
    "s=\"satyam\"\n",
    "revString=\"\"\n",
    "n=len(s)\n",
    "j=n-1\n",
    "\n",
    "while(j>=0):\n",
    "    revString=revString+s[j]\n",
    "    j=j-1\n",
    "print(revString)"
   ]
  },
  {
   "cell_type": "code",
   "execution_count": 16,
   "metadata": {},
   "outputs": [
    {
     "name": "stdout",
     "output_type": "stream",
     "text": [
      "2\n"
     ]
    }
   ],
   "source": [
    "#Q_No_2> Write a code to count the number of vowels in a string\n",
    "s=\"Satyam\"\n",
    "n=len(s)\n",
    "i=0\n",
    "count=0\n",
    "while(i<n):\n",
    "    if(s[i]=='a'): count=count+1\n",
    "    elif(s[i]=='e'): count=count+1\n",
    "    elif(s[i]=='i'): count=count+1\n",
    "    elif(s[i]=='o'): count=count+1\n",
    "    elif(s[i]=='u'): count=count+1\n",
    "    i=i+1\n",
    "\n",
    "print(count)   "
   ]
  },
  {
   "cell_type": "code",
   "execution_count": 17,
   "metadata": {},
   "outputs": [
    {
     "name": "stdout",
     "output_type": "stream",
     "text": [
      "True\n"
     ]
    }
   ],
   "source": [
    "#Q_No_3> Write a code to check if a given string is a palindrome or not\n",
    "s=\"eye\"\n",
    "n=len(s)\n",
    "i=0; j=n-1\n",
    "count=0\n",
    "flag=True\n",
    "while(i<j):\n",
    "    if(s[i]!=s[j]):\n",
    "        flag=False\n",
    "        break\n",
    "    i=i+1\n",
    "    j=j-1\n",
    "\n",
    "print(flag)"
   ]
  },
  {
   "cell_type": "code",
   "execution_count": 18,
   "metadata": {},
   "outputs": [
    {
     "name": "stdout",
     "output_type": "stream",
     "text": [
      "True\n"
     ]
    }
   ],
   "source": [
    "#Q_No_4>  Write a code to check if two given strings are anagrams of each other\n",
    "s=\"anagram\"\n",
    "t=\"nagaram\"\n",
    "set1=[]\n",
    "set2=[]\n",
    "n=len(s)\n",
    "m=len(t)\n",
    "i=0\n",
    "j=0\n",
    "flag=True\n",
    "if(n!=m):flag=False\n",
    "else:\n",
    "    while(i<n):\n",
    "      set1.append(s[i])\n",
    "      set2.append(t[i])\n",
    "      i=i+1 \n",
    "    set1.sort()\n",
    "    set2.sort()  \n",
    "    while(j<n):\n",
    "       if(set1[j]!=set2[j]):\n",
    "          flag=False\n",
    "          break\n",
    "       j=j+1\n",
    "\n",
    "print(flag)       "
   ]
  },
  {
   "cell_type": "code",
   "execution_count": 26,
   "metadata": {},
   "outputs": [
    {
     "name": "stdout",
     "output_type": "stream",
     "text": [
      "Occurrences of 'test': [10, 16, 32]\n"
     ]
    }
   ],
   "source": [
    "#Q_No_5>  Write a code to find all occurrences of a given substring within another string\n",
    "def find_all_occurrences(text, substring):\n",
    "    occurrences = []\n",
    "    start = 0\n",
    "    while start < len(text):\n",
    "        pos = text.find(substring, start)\n",
    "        if pos == -1:\n",
    "            break\n",
    "        occurrences.append(pos)\n",
    "        start = pos + 1  # Move start index to avoid overlapping\n",
    "    return occurrences\n",
    "\n",
    "# Example usage\n",
    "text = \"This is a test. Testing is fun. Test your skills.\"\n",
    "substring = \"test\"\n",
    "occurrences = find_all_occurrences(text.lower(), substring.lower())  # Use lower() for case-insensitive search\n",
    "print(f\"Occurrences of '{substring}': {occurrences}\")\n",
    "\n"
   ]
  },
  {
   "cell_type": "code",
   "execution_count": 6,
   "metadata": {},
   "outputs": [
    {
     "name": "stdout",
     "output_type": "stream",
     "text": [
      "a3b4c\n"
     ]
    }
   ],
   "source": [
    "#Q_No_6>Write a code to perform basic string compression using the counts of repeated characters\n",
    "s=\"aaabbbbc\"\n",
    "n=len(s)\n",
    "i=0 ;j=0\n",
    "ans=\"\"\n",
    "while(j<n):\n",
    "    if(s[i]==s[j]): j=j+1\n",
    "    else :\n",
    "        l=j-i\n",
    "        if(l==1): ans=ans+s[i]\n",
    "        else:\n",
    "         ans=ans+s[i]\n",
    "         ans=ans+str(l)\n",
    "\n",
    "        i=j \n",
    "    \n",
    "l=j-i\n",
    "if(l==1): ans=ans+s[i]\n",
    "else:\n",
    "  ans=ans+s[i]\n",
    "  ans=ans+str(l)\n",
    "\n",
    "print(ans)"
   ]
  },
  {
   "cell_type": "code",
   "execution_count": 24,
   "metadata": {},
   "outputs": [
    {
     "name": "stdout",
     "output_type": "stream",
     "text": [
      "true\n"
     ]
    }
   ],
   "source": [
    "#Q_No_7> Write a code to determine if a string has all unique characters\n",
    "s=\"ear\"\n",
    "set={1}\n",
    "n=len(s)\n",
    "i=0\n",
    "while(i<n):\n",
    "    set.add(s[i])\n",
    "    i=i+1\n",
    "\n",
    "if(n+1==len(set)):print(\"true\")\n",
    "else: print(\"false\")"
   ]
  },
  {
   "cell_type": "code",
   "execution_count": 25,
   "metadata": {},
   "outputs": [
    {
     "name": "stdout",
     "output_type": "stream",
     "text": [
      "sATYAm\n"
     ]
    }
   ],
   "source": [
    "#Q_No_8> Write a code to convert a given string to uppercase or lowercase\n",
    "s=\"SatyaM\"\n",
    "n=len(s)\n",
    "ans=\"\"\n",
    "i=0\n",
    "while(i<n):\n",
    "    ascii=ord(s[i])\n",
    "    if(ascii>=65 and ascii<=90):\n",
    "        ascii=ascii+32\n",
    "        ans=ans+chr(ascii)\n",
    "        i=i+1\n",
    "    elif(ascii>=97 and ascii<=122):\n",
    "        ascii=ascii-32 \n",
    "        ans=ans+chr(ascii)\n",
    "        i=i+1\n",
    "    \n",
    "\n",
    "print(ans)"
   ]
  },
  {
   "cell_type": "code",
   "execution_count": 26,
   "metadata": {},
   "outputs": [
    {
     "name": "stdout",
     "output_type": "stream",
     "text": [
      "4\n"
     ]
    }
   ],
   "source": [
    "#Q_No_9>  Write a code to count the number of words in a string\n",
    "s=\"This is Ds Course\"\n",
    "n=len(s)\n",
    "i=0\n",
    "count=0\n",
    "while(i<n):\n",
    "    if(s[i]==' '): count=count+1\n",
    "    i=i+1\n",
    "\n",
    "print(count+1)  "
   ]
  },
  {
   "cell_type": "code",
   "execution_count": 27,
   "metadata": {},
   "outputs": [
    {
     "name": "stdout",
     "output_type": "stream",
     "text": [
      "satyamkumar\n"
     ]
    }
   ],
   "source": [
    "#Q_No_10> Write a code to concatenate two strings without using the + operator.\n",
    "s=\"satyam\"\n",
    "t=\"kumar\"\n",
    "l=[]\n",
    "n=len(s)\n",
    "m=len(t)\n",
    "i=0;j=0\n",
    "while(i<n):\n",
    "    l.append(s[i])\n",
    "    i=i+1\n",
    "\n",
    "while(j<m):\n",
    "    l.append(t[j])\n",
    "    j=j+1  \n",
    "\n",
    "\n",
    "temp=\"\"\n",
    "\n",
    "for i in l:\n",
    "    temp=temp+i\n",
    "\n",
    "print(temp)  "
   ]
  },
  {
   "cell_type": "code",
   "execution_count": 27,
   "metadata": {},
   "outputs": [
    {
     "name": "stdout",
     "output_type": "stream",
     "text": [
      "[3, 4, 5]\n"
     ]
    }
   ],
   "source": [
    "#Q_No_11> Write a code to remove all occurrences of a specific element from a list\n",
    "l=[1,1,2,3,4,5,1,2,1]\n",
    "ans=[]\n",
    "for i in range(len(l)):\n",
    "    count=0\n",
    "    for j in range(len(l)):\n",
    "        if l[i]==l[j]:\n",
    "            count+=1\n",
    "    if count==1:\n",
    "        ans.append(l[i])\n",
    "                \n",
    "\n",
    "\n",
    "\n",
    "\n",
    "\n",
    "\n",
    "\n",
    "\n",
    "print(ans)"
   ]
  },
  {
   "cell_type": "code",
   "execution_count": 21,
   "metadata": {},
   "outputs": [
    {
     "name": "stdout",
     "output_type": "stream",
     "text": [
      "35\n"
     ]
    }
   ],
   "source": [
    "#Q_No_12>  Implement a code to find the second largest number in a given list of integers\n",
    "l=[1,45,35,5,6,0]\n",
    "max=0\n",
    "smax=0\n",
    "index=-1\n",
    "for i in range(len(l)):\n",
    "    if l[i]>max:\n",
    "        smax=max\n",
    "        max=l[i] \n",
    "        index=i       \n",
    "for j in range(len(l)):\n",
    "    if index!=j:\n",
    "       if max>smax and l[j]>smax:\n",
    "           smax=l[j]  \n",
    "\n",
    "\n",
    "print(smax)        \n",
    "\n"
   ]
  },
  {
   "cell_type": "code",
   "execution_count": 24,
   "metadata": {},
   "outputs": [
    {
     "name": "stdout",
     "output_type": "stream",
     "text": [
      "{1: 1, 2: 2, 3: 3, 4: 4}\n"
     ]
    }
   ],
   "source": [
    "#Q_No_13> Create a code to count the occurrences of each element in a list and return a dictionary with elements as keys and their counts as values\n",
    "def count_occurrences(lst):\n",
    "    counts = {}\n",
    "    for item in lst:\n",
    "        counts[item] = counts.get(item, 0) + 1\n",
    "    return counts\n",
    "\n",
    "my_list = [1, 2, 2, 3, 3, 3, 4, 4, 4, 4]\n",
    "counts = count_occurrences(my_list)\n",
    "print(counts)"
   ]
  },
  {
   "cell_type": "code",
   "execution_count": 30,
   "metadata": {},
   "outputs": [
    {
     "name": "stdout",
     "output_type": "stream",
     "text": [
      "[5, 4, 3, 'true', 1]\n"
     ]
    }
   ],
   "source": [
    "#Q_No_14>  Write a code to reverse a list in-place without using any built-in reverse functions\n",
    "list=[1,\"true\",3,4,5]\n",
    "n=len(list)\n",
    "i=0; j=n-1\n",
    "while(i<j):\n",
    "    temp=list[i]\n",
    "    list[i]=list[j]\n",
    "    list[j]=temp\n",
    "    i=i+1\n",
    "    j=j-1\n",
    "\n",
    "print(list)    "
   ]
  },
  {
   "cell_type": "code",
   "execution_count": 31,
   "metadata": {},
   "outputs": [
    {
     "name": "stdout",
     "output_type": "stream",
     "text": [
      "[1, 2, 3, 4, 8, 5, 6]\n"
     ]
    }
   ],
   "source": [
    "#Q_No_15>  Implement a code to find and remove duplicates from a list while preserving the original order of elements\n",
    "l=[1,2,3,4,8,1,5,6,4]\n",
    "ans=[]\n",
    "for i in l:\n",
    "    count=0\n",
    "    for j in l:\n",
    "        if i in ans:\n",
    "            break\n",
    "        else:\n",
    "            if i==j:\n",
    "              count+=1\n",
    "    if count>=1:\n",
    "        ans.append(i)\n",
    "\n",
    "print(ans)        \n"
   ]
  },
  {
   "cell_type": "code",
   "execution_count": 53,
   "metadata": {},
   "outputs": [
    {
     "name": "stdout",
     "output_type": "stream",
     "text": [
      "False\n"
     ]
    }
   ],
   "source": [
    "#Q_No_16> Create a code to check if a given list is sorted (either in ascending or descending order) or not\n",
    "list=[1,2,3,4,8,6]\n",
    "n=len(list)\n",
    "i=0\n",
    "flag=True\n",
    "while(i<n-1):\n",
    "    if(list[i]>list[i+1]):\n",
    "        flag=False\n",
    "        break\n",
    "    i=i+1\n",
    "print(flag) "
   ]
  },
  {
   "cell_type": "code",
   "execution_count": 54,
   "metadata": {},
   "outputs": [
    {
     "name": "stdout",
     "output_type": "stream",
     "text": [
      "[1, 2, 3, 4, 5, 6, 7, 8]\n"
     ]
    }
   ],
   "source": [
    "#Q_No_17> Write a code to merge two sorted lists into a single sorted list\n",
    "list1=[1,3,5,7]\n",
    "list2=[2,4,6,8]\n",
    "list=[]\n",
    "n=len(list1)\n",
    "m=len(list2)\n",
    "i=0; j=0; k=0\n",
    "while(i<n and j<m):\n",
    "    if(list1[i]<=list2[j]):\n",
    "        #list.append(list1[i])\n",
    "        list.insert(k,list1[i])\n",
    "        i=i+1\n",
    "        k=k+1\n",
    "    else :\n",
    "        #list.append(list2[j])\n",
    "        list.insert(k,list2[j])\n",
    "        k=k+1\n",
    "        j=j+1\n",
    "\n",
    "while(i!=n):\n",
    "    #list.append(list1[i])\n",
    "    list.insert(k,list[i])\n",
    "    k=k+1\n",
    "    i=i+1\n",
    "\n",
    "while(j!=m):\n",
    "    #list.append(list2[j])\n",
    "    list.insert(k,list2[j])\n",
    "    k=k+1\n",
    "    j=j+1    \n",
    "\n",
    "print(list)"
   ]
  },
  {
   "cell_type": "code",
   "execution_count": 56,
   "metadata": {},
   "outputs": [
    {
     "name": "stdout",
     "output_type": "stream",
     "text": [
      "[3, 4]\n"
     ]
    }
   ],
   "source": [
    "#Q_No_18>  Implement a code to find the intersection of two given lists\n",
    "l1=[1.2,3,4]\n",
    "l2=[3,4,3,6]\n",
    "l3=[]\n",
    "\n",
    "n=len(l1)\n",
    "m=len(l2)\n",
    "\n",
    "for i in l1:\n",
    "    for j in l2:\n",
    "        if i in l2:\n",
    "            l3.append(i)\n",
    "            l2.remove(i)\n",
    "            break\n",
    "            \n",
    "\n",
    "print(l3)  "
   ]
  },
  {
   "cell_type": "code",
   "execution_count": 57,
   "metadata": {},
   "outputs": [
    {
     "name": "stdout",
     "output_type": "stream",
     "text": [
      "[1, 2, 3, 4, 5, 6]\n"
     ]
    }
   ],
   "source": [
    "#Q_No_19> Create a code to find the union of two lists without duplicates\n",
    "l1=[1,2,3,4]\n",
    "l2=[3,4,5,6]\n",
    "l3=[]\n",
    "for i in l1:\n",
    "    l3.append(i)\n",
    "\n",
    "\n",
    "for i in l2:\n",
    "    for j in l1:\n",
    "        if i not in l1:\n",
    "            l3.append(i)\n",
    "            break\n",
    "\n",
    "print(l3)  "
   ]
  },
  {
   "cell_type": "code",
   "execution_count": 25,
   "metadata": {},
   "outputs": [
    {
     "name": "stdout",
     "output_type": "stream",
     "text": [
      "Original list: [1, 2, 3, 4, 5, 6, 7, 8, 9]\n",
      "Shuffled list: [6, 3, 9, 4, 2, 1, 8, 5, 7]\n"
     ]
    }
   ],
   "source": [
    "#Q_No_20>  Write a code to shuffle a given list randomly without using any built-in shuffle functions\n",
    "import random\n",
    "\n",
    "def shuffle_list(lst):\n",
    "    n = len(lst)\n",
    "    for i in range(n - 1, 0, -1):\n",
    "        j = random.randint(0, i)\n",
    "        # Swap elements at indices i and j\n",
    "        lst[i], lst[j] = lst[j], lst[i]\n",
    "    return lst\n",
    "\n",
    "my_list = [1, 2, 3, 4, 5, 6, 7, 8, 9]\n",
    "shuffled_list = shuffle_list(my_list.copy())\n",
    "print(\"Original list:\", my_list)\n",
    "print(\"Shuffled list:\", shuffled_list)"
   ]
  },
  {
   "cell_type": "code",
   "execution_count": 58,
   "metadata": {},
   "outputs": [
    {
     "name": "stdout",
     "output_type": "stream",
     "text": [
      "(3, 4)\n"
     ]
    }
   ],
   "source": [
    "#Q_No_21> Write a code that takes two tuples as input and returns a new tuple containing elements that are common to both input tuples\n",
    "t1=(1,2,3,4)\n",
    "t2=(3,4,5,6)\n",
    "new_tuple=()\n",
    "for i in t1:\n",
    "    if i in t2:\n",
    "        new_tuple=new_tuple+(i,) \n",
    "\n",
    "print(new_tuple) "
   ]
  },
  {
   "cell_type": "code",
   "execution_count": 60,
   "metadata": {},
   "outputs": [
    {
     "name": "stdout",
     "output_type": "stream",
     "text": [
      "[1, 4]\n"
     ]
    }
   ],
   "source": [
    "#Q_No_22>  Create a code that prompts the user to enter two sets of integers separated by commas. Then, print the intersection of these two sets\n",
    "s1={1,2,3}\n",
    "s2={2,3,4}\n",
    "\n",
    "ans=[]\n",
    "for i in s1:\n",
    "    if i not in s2:\n",
    "        ans.append(i)\n",
    "for i in s2:\n",
    "    if i not in s1:\n",
    "        ans.append(i)\n",
    "\n",
    "\n",
    "print(ans)  "
   ]
  },
  {
   "cell_type": "code",
   "execution_count": 61,
   "metadata": {},
   "outputs": [
    {
     "name": "stdout",
     "output_type": "stream",
     "text": [
      "(3, 4)\n"
     ]
    }
   ],
   "source": [
    "#Q_No_23> Write a code to concatenate two tuples. The function should take two tuples as input and return a newtuple containing elements from both input tuples.\n",
    "t1=(1,2,3,4)\n",
    "t2=(3,4,5,6)\n",
    "new_tup=()\n",
    "def intersection(t1,t2,new_tup):\n",
    "    for i in t1:\n",
    "        if i in t2:\n",
    "           new_tup=new_tup+(i,)\n",
    "    print(new_tup)       \n",
    "intersection(t1,t2,new_tup)"
   ]
  },
  {
   "cell_type": "code",
   "execution_count": 62,
   "metadata": {},
   "outputs": [
    {
     "name": "stdout",
     "output_type": "stream",
     "text": [
      "eye\n"
     ]
    }
   ],
   "source": [
    "#Q_No_24> Develop a code that prompts the user to input two sets of strings. Then, print the elements that are present in the first set but not in the second set\n",
    "s1={\"cat\",\"dog\",\"eye\"}\n",
    "s2={\"cat\",\"dog\"}\n",
    "\n",
    "for i in s1:\n",
    "    for j in s2:\n",
    "        if i not in s2:\n",
    "            print(i)\n",
    "            break"
   ]
  },
  {
   "cell_type": "code",
   "execution_count": 65,
   "metadata": {},
   "outputs": [
    {
     "name": "stdout",
     "output_type": "stream",
     "text": [
      "(2, 3, 4)\n"
     ]
    }
   ],
   "source": [
    "#Q_No_25>  Create a code that takes a tuple and two integers as input. The function should return a new tuple containing elements from the original tuple within the specified range of indices\n",
    "t1=(1,2,3,4)\n",
    "x=2;y=5\n",
    "new_tup=()\n",
    "def intersection(t1,x,y,new_tup):\n",
    "    for i in t1:\n",
    "        if i>=x and i<=y:\n",
    "           new_tup=new_tup+(i,)\n",
    "    print(new_tup)   \n",
    "intersection(t1,x,y,new_tup)        "
   ]
  },
  {
   "cell_type": "code",
   "execution_count": 68,
   "metadata": {},
   "outputs": [
    {
     "name": "stdout",
     "output_type": "stream",
     "text": [
      "{'d', 'b', 'c', 'a', 'e'}\n"
     ]
    }
   ],
   "source": [
    "#Q_No_26>  Write a code that prompts the user to input two sets of characters. Then, print the union of these two sets\n",
    "s1={'a','b','c'}\n",
    "s2={'c','d','e'}\n",
    "s3={'a','b','c'}\n",
    "\n",
    "for i in s2:\n",
    "    for j in s1:\n",
    "        if i not in s1:\n",
    "            s3.add(i)\n",
    "            break\n",
    "\n",
    "print(s3)  "
   ]
  },
  {
   "cell_type": "code",
   "execution_count": 69,
   "metadata": {},
   "outputs": [
    {
     "name": "stdout",
     "output_type": "stream",
     "text": [
      "5\n",
      "1\n"
     ]
    }
   ],
   "source": [
    "#Q_No_27>  Develop a code that takes a tuple of integers as input. The function should return the maximum and minimum values from the tuple using tuple unpacking\n",
    "t=(1,2,3,4,5)\n",
    "\n",
    "def func(t):\n",
    "    max=-1\n",
    "    for i in t:\n",
    "        if i>max:\n",
    "            max=i\n",
    "    print(max)\n",
    "    min=t[0]\n",
    "\n",
    "    for i in t:\n",
    "        if  i<min:\n",
    "            min=i \n",
    "\n",
    "    print(min)               \n",
    "\n",
    "func(t)"
   ]
  },
  {
   "cell_type": "code",
   "execution_count": 70,
   "metadata": {},
   "outputs": [
    {
     "name": "stdout",
     "output_type": "stream",
     "text": [
      "[1, 2, 3, 4, 5]\n",
      "[3]\n",
      "[1, 2]\n"
     ]
    }
   ],
   "source": [
    "#Q_No_28> Create a code that defines two sets of integers. Then, print the union, intersection, and difference of these two sets\n",
    "s1={1,2,3}\n",
    "s2={3,4,5}\n",
    "union=[]\n",
    "intersection=[]\n",
    "diff=[]\n",
    "for i in s1:\n",
    "    if i in s2:\n",
    "       intersection.append(i)\n",
    "\n",
    "\n",
    "for i in s1:\n",
    "    union.append(i)\n",
    "for i in s2:\n",
    "    if i not in union:\n",
    "        union.append(i)\n",
    "\n",
    "\n",
    "for i in s1:\n",
    "    if i not in s2:\n",
    "        diff.append(i)\n",
    "\n",
    "print(union)\n",
    "print(intersection)\n",
    "print(diff)                "
   ]
  },
  {
   "cell_type": "code",
   "execution_count": 72,
   "metadata": {},
   "outputs": [
    {
     "name": "stdout",
     "output_type": "stream",
     "text": [
      "{1: 3, 2: 2, 3: 2, 4: 2}\n"
     ]
    }
   ],
   "source": [
    "#Q_No_29>  Write a code that takes a tuple and an element as input. The function should return the count of occurrences of the given element in the tuple\n",
    "t=(1,2,3,4,1,4,3,1,2)\n",
    "d={}\n",
    "\n",
    "def occurence(t,d):\n",
    "    for  i in t:\n",
    "        count=0\n",
    "        for j in t:\n",
    "            if i==j:\n",
    "                count+=1\n",
    "        s={i:count}\n",
    "        d.update(s)\n",
    "    print(d)\n",
    "\n",
    "\n",
    "occurence(t,d)  "
   ]
  },
  {
   "cell_type": "code",
   "execution_count": 73,
   "metadata": {},
   "outputs": [
    {
     "name": "stdout",
     "output_type": "stream",
     "text": [
      "b\n",
      "a\n",
      "e\n",
      "f\n"
     ]
    }
   ],
   "source": [
    "#Q_No_30>  Develop a code that prompts the user to input two sets of strings. Then, print the symmetric difference of these two sets\n",
    "s1={'a','b','c'}\n",
    "s2={'c','e','f','c'}\n",
    "\n",
    "for i in s1:\n",
    "    if i not in s2:\n",
    "        print(i)\n",
    "for i in s2:\n",
    "    if i not in s1:\n",
    "        print(i)"
   ]
  },
  {
   "cell_type": "code",
   "execution_count": 74,
   "metadata": {},
   "outputs": [
    {
     "name": "stdout",
     "output_type": "stream",
     "text": [
      "{'cat': 2, 'dog': 2, 'rat': 1, 'bat': 1}\n"
     ]
    }
   ],
   "source": [
    "#Q_No_31>  Write a code that takes a list of words as input and returns a dictionary where the keys are unique words and the values are the frequencies of those words in the input list\n",
    "l=[\"cat\",\"dog\",\"rat\",\"dog\",\"bat\",\"cat\"]\n",
    "d={}\n",
    "\n",
    "for i in l:\n",
    "    count=0\n",
    "    for j in l:\n",
    "        if i==j:\n",
    "            count+=1\n",
    "        s={i:count}\n",
    "        d.update(s)\n",
    "print(d)"
   ]
  },
  {
   "cell_type": "code",
   "execution_count": 75,
   "metadata": {},
   "outputs": [
    {
     "name": "stdout",
     "output_type": "stream",
     "text": [
      "A\n",
      "23\n",
      "B\n",
      "15\n",
      "c\n",
      "56\n",
      "{'A': 55, 'B': 66, 'c': 62}\n"
     ]
    }
   ],
   "source": [
    "#Q_No_32> Write a code that takes two dictionaries as input and merges them into a single dictionary. If there are common keys, the values should be added together\n",
    "d1={\"A\":23,\"B\":15,\"c\":56}\n",
    "d2={\"A\":32,\"B\":51,\"c\":6}\n",
    "\n",
    "d={}\n",
    "\n",
    "\n",
    "for i in d1:\n",
    "    print(i)\n",
    "    print(d1[i])\n",
    "\n",
    "\n",
    "for i in d1:\n",
    "    sum=d1[i]+d2[i]\n",
    "    s={i:sum}\n",
    "    d.update(s)\n",
    "print(d)\n"
   ]
  },
  {
   "cell_type": "code",
   "execution_count": 30,
   "metadata": {},
   "outputs": [
    {
     "name": "stdout",
     "output_type": "stream",
     "text": [
      "Value for keys ['a', 'b', 'c']: 42\n"
     ]
    }
   ],
   "source": [
    "#Q_No_33> Write a code to access a value in a nested dictionary. The function should take the dictionary and a list of keys as input, and return the corresponding value. If any of the keys do not exist in the dictionary, the function should return None.\n",
    "def get_nested_value(d, keys):\n",
    "    current = d\n",
    "    for key in keys:\n",
    "        if isinstance(current, dict) and key in current:\n",
    "            current = current[key]\n",
    "        else:\n",
    "            return None\n",
    "    return current\n",
    "\n",
    "nested_dict = {\n",
    "    'a': {\n",
    "        'b': {\n",
    "            'c': 42\n",
    "        }\n",
    "    }\n",
    "}\n",
    "\n",
    "keys_list = ['a', 'b', 'c']\n",
    "value = get_nested_value(nested_dict, keys_list)\n",
    "print(f\"Value for keys {keys_list}: {value}\")\n",
    "\n",
    "\n"
   ]
  },
  {
   "cell_type": "code",
   "execution_count": 28,
   "metadata": {},
   "outputs": [
    {
     "name": "stdout",
     "output_type": "stream",
     "text": [
      "Sorted dictionary (ascending): {'date': 1, 'banana': 2, 'apple': 5, 'cherry': 7}\n"
     ]
    }
   ],
   "source": [
    "#Q_No_34> Write a code that takes a dictionary as input and returns a sorted version of it based on the values. You can choose whether to sort in ascending or descending order.\n",
    "def sort_dict_by_values(d, ascending=True):\n",
    "    \n",
    "    sorted_items = sorted(d.items(), key=lambda item: item[1], reverse=not ascending)\n",
    "    \n",
    "    return dict(sorted_items)\n",
    "\n",
    "my_dict = {'apple': 5, 'banana': 2, 'cherry': 7, 'date': 1}\n",
    "sorted_dict_ascending = sort_dict_by_values(my_dict, ascending=True)\n",
    "\n",
    "print(\"Sorted dictionary (ascending):\", sorted_dict_ascending)\n",
    " "
   ]
  },
  {
   "cell_type": "code",
   "execution_count": 29,
   "metadata": {},
   "outputs": [
    {
     "name": "stdout",
     "output_type": "stream",
     "text": [
      "Original dictionary: {'a': 1, 'b': 2, 'c': 1, 'd': 3, 'e': 2}\n",
      "Inverted dictionary: {1: ['a', 'c'], 2: ['b', 'e'], 3: ['d']}\n"
     ]
    }
   ],
   "source": [
    "#Q_No_35> Write a code that inverts a dictionary, swapping keys and values. Ensure that the inverted dictionary correctly handles cases where multiple keys have the same value by storing the keys as a list in the inverted dictionary.\n",
    "def invert_dict(d):\n",
    "    inverted = {}\n",
    "    for key, value in d.items():\n",
    "        if value in inverted:\n",
    "            inverted[value].append(key)  # Add key to the existing list\n",
    "        else:\n",
    "            inverted[value] = [key]  # Create a new list with the key\n",
    "    return inverted\n",
    "\n",
    "\n",
    "original_dict = {'a': 1, 'b': 2, 'c': 1, 'd': 3, 'e': 2}\n",
    "inverted_dict = invert_dict(original_dict)\n",
    "\n",
    "print(\"Original dictionary:\", original_dict)\n",
    "print(\"Inverted dictionary:\", inverted_dict)"
   ]
  }
 ],
 "metadata": {
  "kernelspec": {
   "display_name": "Python 3",
   "language": "python",
   "name": "python3"
  },
  "language_info": {
   "codemirror_mode": {
    "name": "ipython",
    "version": 3
   },
   "file_extension": ".py",
   "mimetype": "text/x-python",
   "name": "python",
   "nbconvert_exporter": "python",
   "pygments_lexer": "ipython3",
   "version": "3.12.2"
  }
 },
 "nbformat": 4,
 "nbformat_minor": 2
}
